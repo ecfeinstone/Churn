{
 "cells": [
  {
   "cell_type": "code",
   "execution_count": 14,
   "metadata": {},
   "outputs": [],
   "source": [
    "from sklearn.preprocessing import StandardScaler, MinMaxScaler, OneHotEncoder\n",
    "from sklearn.model_selection import train_test_split\n",
    "from sklearn.linear_model import LogisticRegression\n",
    "from sklearn.compose import ColumnTransformer\n",
    "from sklearn.pipeline import Pipeline\n",
    "\n",
    "import pandas as pd\n",
    "import numpy as np\n",
    "import matplotlib.pyplot as plt\n",
    "from humps import decamelize"
   ]
  },
  {
   "cell_type": "code",
   "execution_count": 6,
   "metadata": {},
   "outputs": [],
   "source": [
    "df = pd.read_csv(\"https://raw.githubusercontent.com/sharmaroshan/Churn-Modelling-Dataset/master/Churn_Modelling.csv\")"
   ]
  },
  {
   "cell_type": "code",
   "execution_count": 13,
   "metadata": {},
   "outputs": [],
   "source": [
    "# I know snake_case is for python therefore I converted\n",
    "cols = [decamelize(col) for col in df.columns]\n",
    "df.columns = cols"
   ]
  },
  {
   "cell_type": "code",
   "execution_count": 38,
   "metadata": {},
   "outputs": [],
   "source": [
    "category_columns = ['geography', 'gender', 'num_of_products'] # may use num_of_products as categorical\n",
    "\n",
    "continuous_columns = ['credit_score', 'age', 'tenure', 'balance', 'has_cr_card', 'estimated_salary'] # is active member is big data leakage \n",
    "\n",
    "\n",
    "column_transformer = ct = ColumnTransformer(\n",
    "    [(\"text_preprocess\", OneHotEncoder(), category_columns),\n",
    "     (\"num_preprocess\", MinMaxScaler(), continuous_columns)])\n",
    "\n",
    "\n",
    "pipeline = Pipeline([(\"col_transformer\", column_transformer), (\"model\", LogisticRegression())])\n",
    "\n",
    "\n",
    "df_train, df_test = train_test_split(df, test_size=0.2, random_state=42)\n",
    "\n",
    "p = pipeline.fit(df_train.drop('exited', axis=1), df_train['exited'])\n"
   ]
  },
  {
   "cell_type": "code",
   "execution_count": 39,
   "metadata": {},
   "outputs": [],
   "source": [
    "x_pred = pipeline.predict(df_test.drop('exited', axis=1))"
   ]
  },
  {
   "cell_type": "code",
   "execution_count": 40,
   "metadata": {},
   "outputs": [],
   "source": [
    "from sklearn.metrics import auc, roc_curve, classification_report"
   ]
  },
  {
   "cell_type": "code",
   "execution_count": 41,
   "metadata": {},
   "outputs": [],
   "source": [
    "probs_pred = pipeline.predict_proba(df_test.drop('exited', axis=1))[:,0]"
   ]
  },
  {
   "cell_type": "code",
   "execution_count": 42,
   "metadata": {},
   "outputs": [
    {
     "data": {
      "text/plain": [
       "(array([  4.,   8.,  10.,   0.,   9.,  11.,   7.,   5.,   1.,   5.,   8.,\n",
       "          4.,   1.,   9.,   4.,   3.,   5.,   4.,   9.,  14.,  13.,  10.,\n",
       "         11.,   9.,  12.,  28.,  24.,  15.,  18.,  20.,  18.,  33.,  29.,\n",
       "         35.,  28.,  40.,  47.,  70.,  50.,  82.,  70.,  86., 104., 109.,\n",
       "        118., 111., 121., 178., 247., 143.]),\n",
       " array([0.00992486, 0.02949618, 0.0490675 , 0.06863882, 0.08821014,\n",
       "        0.10778145, 0.12735277, 0.14692409, 0.16649541, 0.18606673,\n",
       "        0.20563805, 0.22520937, 0.24478069, 0.26435201, 0.28392332,\n",
       "        0.30349464, 0.32306596, 0.34263728, 0.3622086 , 0.38177992,\n",
       "        0.40135124, 0.42092256, 0.44049387, 0.46006519, 0.47963651,\n",
       "        0.49920783, 0.51877915, 0.53835047, 0.55792179, 0.57749311,\n",
       "        0.59706443, 0.61663574, 0.63620706, 0.65577838, 0.6753497 ,\n",
       "        0.69492102, 0.71449234, 0.73406366, 0.75363498, 0.77320629,\n",
       "        0.79277761, 0.81234893, 0.83192025, 0.85149157, 0.87106289,\n",
       "        0.89063421, 0.91020553, 0.92977685, 0.94934816, 0.96891948,\n",
       "        0.9884908 ]),\n",
       " <BarContainer object of 50 artists>)"
      ]
     },
     "execution_count": 42,
     "metadata": {},
     "output_type": "execute_result"
    },
    {
     "data": {
      "image/png": "[encoded data removed]",
      "text/plain": [
       "<Figure size 640x480 with 1 Axes>"
      ]
     },
     "metadata": {},
     "output_type": "display_data"
    }
   ],
   "source": [
    "plt.hist(probs_pred, bins=50)"
   ]
  },
  {
   "cell_type": "code",
   "execution_count": 43,
   "metadata": {},
   "outputs": [
    {
     "name": "stdout",
     "output_type": "stream",
     "text": [
      "              precision    recall  f1-score   support\n",
      "\n",
      "           0       0.85      0.96      0.90      1607\n",
      "           1       0.67      0.31      0.42       393\n",
      "\n",
      "    accuracy                           0.83      2000\n",
      "   macro avg       0.76      0.63      0.66      2000\n",
      "weighted avg       0.82      0.83      0.81      2000\n",
      "\n"
     ]
    }
   ],
   "source": [
    "print(classification_report(df_test['exited'], x_pred))"
   ]
  }
 ],
 "metadata": {
  "kernelspec": {
   "display_name": "python_stuff-C5TMSPFe-py3.11",
   "language": "python",
   "name": "python3"
  },
  "language_info": {
   "codemirror_mode": {
    "name": "ipython",
    "version": 3
   },
   "file_extension": ".py",
   "mimetype": "text/x-python",
   "name": "python",
   "nbconvert_exporter": "python",
   "pygments_lexer": "ipython3",
   "version": "3.11.5"
  },
  "orig_nbformat": 4
 },
 "nbformat": 4,
 "nbformat_minor": 2
}
